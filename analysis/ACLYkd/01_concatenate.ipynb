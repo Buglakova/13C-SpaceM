{
 "cells": [
  {
   "cell_type": "code",
   "execution_count": 1,
   "metadata": {},
   "outputs": [],
   "source": [
    "from pathlib import Path\n",
    "import matplotlib.pyplot as plt\n",
    "import numpy as np\n",
    "import pandas as pd\n",
    "\n",
    "import scanpy as sc\n",
    "\n",
    "from sciso.plot import *"
   ]
  },
  {
   "cell_type": "markdown",
   "metadata": {},
   "source": [
    "Set plot style"
   ]
  },
  {
   "cell_type": "code",
   "execution_count": 2,
   "metadata": {},
   "outputs": [],
   "source": [
    "set_nature_style()"
   ]
  },
  {
   "cell_type": "markdown",
   "metadata": {},
   "source": [
    "# QC of natural isotope abundance correction and single-cell analysis"
   ]
  },
  {
   "cell_type": "markdown",
   "metadata": {},
   "source": [
    "## Set paths"
   ]
  },
  {
   "cell_type": "code",
   "execution_count": 3,
   "metadata": {},
   "outputs": [],
   "source": [
    "# Input\n",
    "data_dir = Path(r\"/media/buglakova/Extreme SSD/isotope_tracing_backup/data/share/20220411_AB_DKFZACLYac\") \n",
    "slide_dirs = [data_dir / \"slide1\",\n",
    "             data_dir / \"slide2\",\n",
    "             data_dir / \"slide3\"]\n",
    "spacem_dirs = [slide_dir / \"spacem_data\" for slide_dir in slide_dirs]\n",
    "anndata_paths = [slide_dir / \"anndata\" for slide_dir in slide_dirs]\n",
    "adata_paths = [anndata_path / \"adata_concat.h5ad\" for anndata_path in anndata_paths]\n",
    "adata_am_paths = [anndata_path / \"adata_concat_am_isocor.h5ad\" for anndata_path in anndata_paths]\n",
    "metadata_path = data_dir / \"aclykd_metadata.csv\"\n",
    "\n",
    "# Output\n",
    "anndata_path = data_dir / \"anndata\"\n",
    "anndata_path.mkdir(parents=True, exist_ok=True)"
   ]
  },
  {
   "cell_type": "markdown",
   "metadata": {},
   "source": [
    "## Load AnnData and metadata"
   ]
  },
  {
   "cell_type": "code",
   "execution_count": 4,
   "metadata": {},
   "outputs": [],
   "source": [
    "metadata = pd.read_csv(metadata_path)"
   ]
  },
  {
   "cell_type": "code",
   "execution_count": 5,
   "metadata": {},
   "outputs": [
    {
     "data": {
      "text/html": [
       "<div>\n",
       "<style scoped>\n",
       "    .dataframe tbody tr th:only-of-type {\n",
       "        vertical-align: middle;\n",
       "    }\n",
       "\n",
       "    .dataframe tbody tr th {\n",
       "        vertical-align: top;\n",
       "    }\n",
       "\n",
       "    .dataframe thead th {\n",
       "        text-align: right;\n",
       "    }\n",
       "</style>\n",
       "<table border=\"1\" class=\"dataframe\">\n",
       "  <thead>\n",
       "    <tr style=\"text-align: right;\">\n",
       "      <th></th>\n",
       "      <th>datasetId</th>\n",
       "      <th>datasetName</th>\n",
       "      <th>group</th>\n",
       "      <th>submitter</th>\n",
       "      <th>PI</th>\n",
       "      <th>organism</th>\n",
       "      <th>organismPart</th>\n",
       "      <th>condition</th>\n",
       "      <th>slide</th>\n",
       "      <th>well</th>\n",
       "      <th>batch</th>\n",
       "      <th>growthConditions</th>\n",
       "      <th>GFP_ground_truth</th>\n",
       "      <th>ionisationSource</th>\n",
       "      <th>maldiMatrix</th>\n",
       "      <th>analyzer</th>\n",
       "      <th>resPower400</th>\n",
       "      <th>polarity</th>\n",
       "      <th>uploadDateTime</th>\n",
       "      <th>mixture</th>\n",
       "    </tr>\n",
       "  </thead>\n",
       "  <tbody>\n",
       "    <tr>\n",
       "      <th>0</th>\n",
       "      <td>2022-04-14_10h46m03s</td>\n",
       "      <td>2022-04-13_ME_DKFZACLY_S1_W1_DANneg_s10a33_100...</td>\n",
       "      <td>♡EMBL♡</td>\n",
       "      <td>Mans Ekelof</td>\n",
       "      <td>Theodore Alexandrov</td>\n",
       "      <td>Mus musculus (mouse)</td>\n",
       "      <td>Liver</td>\n",
       "      <td>ACLYkd Ol.2 + Wildtype</td>\n",
       "      <td>1</td>\n",
       "      <td>1</td>\n",
       "      <td>S1W1</td>\n",
       "      <td>Labeled</td>\n",
       "      <td>2</td>\n",
       "      <td>AP-SMALDI5</td>\n",
       "      <td>1,5-diaminonaphthalene (DAN)</td>\n",
       "      <td>Orbitrap</td>\n",
       "      <td>98995</td>\n",
       "      <td>negative</td>\n",
       "      <td>2022-04-14 10:46:03</td>\n",
       "      <td>1</td>\n",
       "    </tr>\n",
       "    <tr>\n",
       "      <th>1</th>\n",
       "      <td>2022-04-14_10h58m32s</td>\n",
       "      <td>2022-04-13_ME_DKFZACLY_S1_W2_DANneg_s10a33_100...</td>\n",
       "      <td>♡EMBL♡</td>\n",
       "      <td>Mans Ekelof</td>\n",
       "      <td>Theodore Alexandrov</td>\n",
       "      <td>Mus musculus (mouse)</td>\n",
       "      <td>Liver</td>\n",
       "      <td>ACLYkd Ol.2 + Wildtype</td>\n",
       "      <td>1</td>\n",
       "      <td>2</td>\n",
       "      <td>S1W2</td>\n",
       "      <td>Labeled</td>\n",
       "      <td>2</td>\n",
       "      <td>AP-SMALDI5</td>\n",
       "      <td>1,5-diaminonaphthalene (DAN)</td>\n",
       "      <td>Orbitrap</td>\n",
       "      <td>98995</td>\n",
       "      <td>negative</td>\n",
       "      <td>2022-04-14 10:58:32</td>\n",
       "      <td>1</td>\n",
       "    </tr>\n",
       "    <tr>\n",
       "      <th>2</th>\n",
       "      <td>2022-04-14_11h08m04s</td>\n",
       "      <td>2022-04-13_ME_DKFZACLY_S1_W3_DANneg_s10a33_100...</td>\n",
       "      <td>♡EMBL♡</td>\n",
       "      <td>Mans Ekelof</td>\n",
       "      <td>Theodore Alexandrov</td>\n",
       "      <td>Mus musculus (mouse)</td>\n",
       "      <td>Liver</td>\n",
       "      <td>ACLYkd Ol.2</td>\n",
       "      <td>1</td>\n",
       "      <td>3</td>\n",
       "      <td>S1W3</td>\n",
       "      <td>Labeled</td>\n",
       "      <td>1</td>\n",
       "      <td>AP-SMALDI5</td>\n",
       "      <td>1,5-diaminonaphthalene (DAN)</td>\n",
       "      <td>Orbitrap</td>\n",
       "      <td>98995</td>\n",
       "      <td>negative</td>\n",
       "      <td>2022-04-14 11:08:05</td>\n",
       "      <td>0</td>\n",
       "    </tr>\n",
       "    <tr>\n",
       "      <th>3</th>\n",
       "      <td>2022-04-14_11h11m49s</td>\n",
       "      <td>2022-04-13_ME_DKFZACLY_S1_W5_DANneg_s10a33_100...</td>\n",
       "      <td>♡EMBL♡</td>\n",
       "      <td>Mans Ekelof</td>\n",
       "      <td>Theodore Alexandrov</td>\n",
       "      <td>Mus musculus (mouse)</td>\n",
       "      <td>Liver</td>\n",
       "      <td>ACLY Ol.1 + Wildtype</td>\n",
       "      <td>1</td>\n",
       "      <td>5</td>\n",
       "      <td>S1W5</td>\n",
       "      <td>Labeled</td>\n",
       "      <td>2</td>\n",
       "      <td>AP-SMALDI5</td>\n",
       "      <td>1,5-diaminonaphthalene (DAN)</td>\n",
       "      <td>Orbitrap</td>\n",
       "      <td>98995</td>\n",
       "      <td>negative</td>\n",
       "      <td>2022-04-14 11:11:50</td>\n",
       "      <td>1</td>\n",
       "    </tr>\n",
       "    <tr>\n",
       "      <th>4</th>\n",
       "      <td>2022-04-14_11h15m05s</td>\n",
       "      <td>2022-04-13_ME_DKFZACLY_S1_W6_DANneg_s10a33_100...</td>\n",
       "      <td>♡EMBL♡</td>\n",
       "      <td>Mans Ekelof</td>\n",
       "      <td>Theodore Alexandrov</td>\n",
       "      <td>Mus musculus (mouse)</td>\n",
       "      <td>Liver</td>\n",
       "      <td>ACLY Ol.1 + Wildtype</td>\n",
       "      <td>1</td>\n",
       "      <td>6</td>\n",
       "      <td>S1W6</td>\n",
       "      <td>Labeled</td>\n",
       "      <td>2</td>\n",
       "      <td>AP-SMALDI5</td>\n",
       "      <td>1,5-diaminonaphthalene (DAN)</td>\n",
       "      <td>Orbitrap</td>\n",
       "      <td>98995</td>\n",
       "      <td>negative</td>\n",
       "      <td>2022-04-14 11:15:05</td>\n",
       "      <td>1</td>\n",
       "    </tr>\n",
       "  </tbody>\n",
       "</table>\n",
       "</div>"
      ],
      "text/plain": [
       "              datasetId                                        datasetName  \\\n",
       "0  2022-04-14_10h46m03s  2022-04-13_ME_DKFZACLY_S1_W1_DANneg_s10a33_100...   \n",
       "1  2022-04-14_10h58m32s  2022-04-13_ME_DKFZACLY_S1_W2_DANneg_s10a33_100...   \n",
       "2  2022-04-14_11h08m04s  2022-04-13_ME_DKFZACLY_S1_W3_DANneg_s10a33_100...   \n",
       "3  2022-04-14_11h11m49s  2022-04-13_ME_DKFZACLY_S1_W5_DANneg_s10a33_100...   \n",
       "4  2022-04-14_11h15m05s  2022-04-13_ME_DKFZACLY_S1_W6_DANneg_s10a33_100...   \n",
       "\n",
       "    group    submitter                   PI              organism  \\\n",
       "0  ♡EMBL♡  Mans Ekelof  Theodore Alexandrov  Mus musculus (mouse)   \n",
       "1  ♡EMBL♡  Mans Ekelof  Theodore Alexandrov  Mus musculus (mouse)   \n",
       "2  ♡EMBL♡  Mans Ekelof  Theodore Alexandrov  Mus musculus (mouse)   \n",
       "3  ♡EMBL♡  Mans Ekelof  Theodore Alexandrov  Mus musculus (mouse)   \n",
       "4  ♡EMBL♡  Mans Ekelof  Theodore Alexandrov  Mus musculus (mouse)   \n",
       "\n",
       "  organismPart               condition  slide  well batch growthConditions  \\\n",
       "0        Liver  ACLYkd Ol.2 + Wildtype      1     1  S1W1          Labeled   \n",
       "1        Liver  ACLYkd Ol.2 + Wildtype      1     2  S1W2          Labeled   \n",
       "2        Liver             ACLYkd Ol.2      1     3  S1W3          Labeled   \n",
       "3        Liver    ACLY Ol.1 + Wildtype      1     5  S1W5          Labeled   \n",
       "4        Liver    ACLY Ol.1 + Wildtype      1     6  S1W6          Labeled   \n",
       "\n",
       "   GFP_ground_truth ionisationSource                   maldiMatrix  analyzer  \\\n",
       "0                 2       AP-SMALDI5  1,5-diaminonaphthalene (DAN)  Orbitrap   \n",
       "1                 2       AP-SMALDI5  1,5-diaminonaphthalene (DAN)  Orbitrap   \n",
       "2                 1       AP-SMALDI5  1,5-diaminonaphthalene (DAN)  Orbitrap   \n",
       "3                 2       AP-SMALDI5  1,5-diaminonaphthalene (DAN)  Orbitrap   \n",
       "4                 2       AP-SMALDI5  1,5-diaminonaphthalene (DAN)  Orbitrap   \n",
       "\n",
       "   resPower400  polarity       uploadDateTime  mixture  \n",
       "0        98995  negative  2022-04-14 10:46:03        1  \n",
       "1        98995  negative  2022-04-14 10:58:32        1  \n",
       "2        98995  negative  2022-04-14 11:08:05        0  \n",
       "3        98995  negative  2022-04-14 11:11:50        1  \n",
       "4        98995  negative  2022-04-14 11:15:05        1  "
      ]
     },
     "execution_count": 5,
     "metadata": {},
     "output_type": "execute_result"
    }
   ],
   "source": [
    "metadata.head()"
   ]
  },
  {
   "cell_type": "code",
   "execution_count": 6,
   "metadata": {},
   "outputs": [],
   "source": [
    "adatas = [sc.read_h5ad(adata_path) for adata_path in adata_paths]\n",
    "adatas_am = [sc.read_h5ad(adata_am_path) for adata_am_path in adata_am_paths]"
   ]
  },
  {
   "cell_type": "markdown",
   "metadata": {},
   "source": [
    "## Concatenate adatas from different slides"
   ]
  },
  {
   "cell_type": "code",
   "execution_count": 7,
   "metadata": {},
   "outputs": [
    {
     "name": "stderr",
     "output_type": "stream",
     "text": [
      "/tmp/ipykernel_28383/1392437212.py:1: FutureWarning: Use anndata.concat instead of AnnData.concatenate, AnnData.concatenate is deprecated and will be removed in the future. See the tutorial for concat at: https://anndata.readthedocs.io/en/latest/concatenation.html\n",
      "  adata_concat = sc.AnnData.concatenate(\n",
      "/tmp/ipykernel_28383/1392437212.py:8: FutureWarning: Use anndata.concat instead of AnnData.concatenate, AnnData.concatenate is deprecated and will be removed in the future. See the tutorial for concat at: https://anndata.readthedocs.io/en/latest/concatenation.html\n",
      "  adata_am_concat = sc.AnnData.concatenate(\n"
     ]
    }
   ],
   "source": [
    "adata_concat = sc.AnnData.concatenate(\n",
    "        *adatas,\n",
    "        batch_key=\"slide_batch\",\n",
    "        join=\"inner\",\n",
    "        fill_value=0.0,\n",
    "    )\n",
    "\n",
    "adata_am_concat = sc.AnnData.concatenate(\n",
    "        *adatas_am,\n",
    "        batch_key=\"slide_batch\",\n",
    "        join=\"inner\",\n",
    "        fill_value=0.0,\n",
    "    )"
   ]
  },
  {
   "cell_type": "markdown",
   "metadata": {},
   "source": [
    "## Assign conditions based on metadata"
   ]
  },
  {
   "cell_type": "code",
   "execution_count": 8,
   "metadata": {},
   "outputs": [],
   "source": [
    "adata_concat.obs = adata_concat.obs.reset_index().merge(metadata, on=\"batch\", how=\"left\").set_index(\"cell_id\")\n",
    "adata_am_concat.obs = adata_am_concat.obs.reset_index().merge(metadata, on=\"batch\", how=\"left\").set_index(\"cell_id\")"
   ]
  },
  {
   "cell_type": "markdown",
   "metadata": {},
   "source": [
    "## Write concatenated adata"
   ]
  },
  {
   "cell_type": "code",
   "execution_count": 9,
   "metadata": {},
   "outputs": [],
   "source": [
    "output_file = anndata_path / \"aclykd_adata_concat.h5ad\"\n",
    "adata_concat.write(output_file.with_suffix(\".h5ad\"))\n",
    "\n",
    "output_file = anndata_path / \"aclykd_adata_am_concat.h5ad\"\n",
    "adata_am_concat.write(output_file.with_suffix(\".h5ad\"))"
   ]
  },
  {
   "cell_type": "code",
   "execution_count": null,
   "metadata": {},
   "outputs": [],
   "source": []
  }
 ],
 "metadata": {
  "interpreter": {
   "hash": "9bd49a347cd17e738e55f076667836e91d28750ae15cbdfdf20930ba5f19b920"
  },
  "kernelspec": {
   "display_name": "Python 3.9.12 ('sciso_env')",
   "language": "python",
   "name": "python3"
  },
  "language_info": {
   "codemirror_mode": {
    "name": "ipython",
    "version": 3
   },
   "file_extension": ".py",
   "mimetype": "text/x-python",
   "name": "python",
   "nbconvert_exporter": "python",
   "pygments_lexer": "ipython3",
   "version": "3.9.19"
  },
  "orig_nbformat": 4
 },
 "nbformat": 4,
 "nbformat_minor": 2
}
