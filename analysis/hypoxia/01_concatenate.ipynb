{
 "cells": [
  {
   "cell_type": "code",
   "execution_count": 1,
   "metadata": {},
   "outputs": [],
   "source": [
    "from pathlib import Path\n",
    "import matplotlib.pyplot as plt\n",
    "import numpy as np\n",
    "import pandas as pd\n",
    "\n",
    "import scanpy as sc\n",
    "\n",
    "from sciso.plot import *"
   ]
  },
  {
   "cell_type": "markdown",
   "metadata": {},
   "source": [
    "Set plot style"
   ]
  },
  {
   "cell_type": "code",
   "execution_count": 2,
   "metadata": {},
   "outputs": [],
   "source": [
    "set_nature_style()"
   ]
  },
  {
   "cell_type": "code",
   "execution_count": null,
   "metadata": {},
   "outputs": [],
   "source": [
    "sc.read"
   ]
  },
  {
   "cell_type": "markdown",
   "metadata": {},
   "source": [
    "# QC of natural isotope abundance correction and single-cell analysis"
   ]
  },
  {
   "cell_type": "markdown",
   "metadata": {},
   "source": [
    "## Set paths"
   ]
  },
  {
   "cell_type": "code",
   "execution_count": 3,
   "metadata": {},
   "outputs": [],
   "source": [
    "# Input\n",
    "data_dir = Path(r\"/media/buglakova/embl_data/data/lipid_isotope/20220322_AB_DKFZHypoxia\") \n",
    "slide_dirs = [data_dir / \"slide2\",\n",
    "             data_dir / \"slide3\"]\n",
    "spacem_dirs = [slide_dir / \"spacem_data\" for slide_dir in slide_dirs]\n",
    "anndata_paths = [slide_dir / \"anndata\" for slide_dir in slide_dirs]\n",
    "adata_paths = [anndata_path / \"adata_concat.h5ad\" for anndata_path in anndata_paths]\n",
    "adata_am_paths = [anndata_path / \"adata_concat_am_isocor.h5ad\" for anndata_path in anndata_paths]\n",
    "metadata_path = data_dir / \"hypoxia_metadata.csv\"\n",
    "\n",
    "# Output\n",
    "anndata_path = data_dir / \"anndata\"\n",
    "anndata_path.mkdir(parents=True, exist_ok=True)"
   ]
  },
  {
   "cell_type": "markdown",
   "metadata": {},
   "source": [
    "## Load AnnData and metadata"
   ]
  },
  {
   "cell_type": "code",
   "execution_count": 4,
   "metadata": {},
   "outputs": [],
   "source": [
    "metadata = pd.read_csv(metadata_path)"
   ]
  },
  {
   "cell_type": "code",
   "execution_count": 5,
   "metadata": {},
   "outputs": [
    {
     "data": {
      "text/html": [
       "<div>\n",
       "<style scoped>\n",
       "    .dataframe tbody tr th:only-of-type {\n",
       "        vertical-align: middle;\n",
       "    }\n",
       "\n",
       "    .dataframe tbody tr th {\n",
       "        vertical-align: top;\n",
       "    }\n",
       "\n",
       "    .dataframe thead th {\n",
       "        text-align: right;\n",
       "    }\n",
       "</style>\n",
       "<table border=\"1\" class=\"dataframe\">\n",
       "  <thead>\n",
       "    <tr style=\"text-align: right;\">\n",
       "      <th></th>\n",
       "      <th>datasetId</th>\n",
       "      <th>datasetName</th>\n",
       "      <th>group</th>\n",
       "      <th>submitter</th>\n",
       "      <th>PI</th>\n",
       "      <th>organism</th>\n",
       "      <th>organismPart</th>\n",
       "      <th>condition</th>\n",
       "      <th>slide</th>\n",
       "      <th>well</th>\n",
       "      <th>batch</th>\n",
       "      <th>growthConditions</th>\n",
       "      <th>GFP_ground_truth</th>\n",
       "      <th>ionisationSource</th>\n",
       "      <th>maldiMatrix</th>\n",
       "      <th>analyzer</th>\n",
       "      <th>resPower400</th>\n",
       "      <th>polarity</th>\n",
       "      <th>uploadDateTime</th>\n",
       "      <th>mixture</th>\n",
       "    </tr>\n",
       "  </thead>\n",
       "  <tbody>\n",
       "    <tr>\n",
       "      <th>0</th>\n",
       "      <td>2022-04-11_10h23m28s</td>\n",
       "      <td>2022-04-10_AB_DKFZHypoxia_S3_W1_DANneg_s10a33_...</td>\n",
       "      <td>♡EMBL♡</td>\n",
       "      <td>Mans Ekelof</td>\n",
       "      <td>Theodore Alexandrov</td>\n",
       "      <td>Mus musculus (mouse)</td>\n",
       "      <td>Liver</td>\n",
       "      <td>Normoxia</td>\n",
       "      <td>3</td>\n",
       "      <td>1</td>\n",
       "      <td>S3W1</td>\n",
       "      <td>Unlabeled</td>\n",
       "      <td>0</td>\n",
       "      <td>AP-SMALDI5</td>\n",
       "      <td>1,5-diaminonaphthalene (DAN)</td>\n",
       "      <td>Orbitrap</td>\n",
       "      <td>98995</td>\n",
       "      <td>negative</td>\n",
       "      <td>2022-04-11 10:23:28</td>\n",
       "      <td>0</td>\n",
       "    </tr>\n",
       "    <tr>\n",
       "      <th>1</th>\n",
       "      <td>2022-04-11_10h24m59s</td>\n",
       "      <td>2022-04-10_AB_DKFZHypoxia_S3_W2_DANneg_s10a33_...</td>\n",
       "      <td>♡EMBL♡</td>\n",
       "      <td>Mans Ekelof</td>\n",
       "      <td>Theodore Alexandrov</td>\n",
       "      <td>Mus musculus (mouse)</td>\n",
       "      <td>Liver</td>\n",
       "      <td>Hypoxia</td>\n",
       "      <td>3</td>\n",
       "      <td>2</td>\n",
       "      <td>S3W2</td>\n",
       "      <td>Unlabeled</td>\n",
       "      <td>1</td>\n",
       "      <td>AP-SMALDI5</td>\n",
       "      <td>1,5-diaminonaphthalene (DAN)</td>\n",
       "      <td>Orbitrap</td>\n",
       "      <td>98995</td>\n",
       "      <td>negative</td>\n",
       "      <td>2022-04-11 10:25:00</td>\n",
       "      <td>0</td>\n",
       "    </tr>\n",
       "    <tr>\n",
       "      <th>2</th>\n",
       "      <td>2022-04-11_10h26m29s</td>\n",
       "      <td>2022-04-10_AB_DKFZHypoxia_S3_W3_DANneg_s10a33_...</td>\n",
       "      <td>♡EMBL♡</td>\n",
       "      <td>Mans Ekelof</td>\n",
       "      <td>Theodore Alexandrov</td>\n",
       "      <td>Mus musculus (mouse)</td>\n",
       "      <td>Liver</td>\n",
       "      <td>Hypoxia</td>\n",
       "      <td>3</td>\n",
       "      <td>3</td>\n",
       "      <td>S3W3</td>\n",
       "      <td>Labeled</td>\n",
       "      <td>1</td>\n",
       "      <td>AP-SMALDI5</td>\n",
       "      <td>1,5-diaminonaphthalene (DAN)</td>\n",
       "      <td>Orbitrap</td>\n",
       "      <td>98995</td>\n",
       "      <td>negative</td>\n",
       "      <td>2022-04-11 10:26:29</td>\n",
       "      <td>0</td>\n",
       "    </tr>\n",
       "    <tr>\n",
       "      <th>3</th>\n",
       "      <td>2022-04-11_10h28m11s</td>\n",
       "      <td>2022-04-10_AB_DKFZHypoxia_S3_W4_DANneg_s10a33_...</td>\n",
       "      <td>♡EMBL♡</td>\n",
       "      <td>Mans Ekelof</td>\n",
       "      <td>Theodore Alexandrov</td>\n",
       "      <td>Mus musculus (mouse)</td>\n",
       "      <td>Liver</td>\n",
       "      <td>Hypoxia + Normoxia</td>\n",
       "      <td>3</td>\n",
       "      <td>4</td>\n",
       "      <td>S3W4</td>\n",
       "      <td>Labeled</td>\n",
       "      <td>2</td>\n",
       "      <td>AP-SMALDI5</td>\n",
       "      <td>1,5-diaminonaphthalene (DAN)</td>\n",
       "      <td>Orbitrap</td>\n",
       "      <td>98995</td>\n",
       "      <td>negative</td>\n",
       "      <td>2022-04-11 10:28:12</td>\n",
       "      <td>1</td>\n",
       "    </tr>\n",
       "    <tr>\n",
       "      <th>4</th>\n",
       "      <td>2022-04-11_10h31m36s</td>\n",
       "      <td>2022-04-10_AB_DKFZHypoxia_S3_W5_DANneg_s10a33_...</td>\n",
       "      <td>♡EMBL♡</td>\n",
       "      <td>Mans Ekelof</td>\n",
       "      <td>Theodore Alexandrov</td>\n",
       "      <td>Mus musculus (mouse)</td>\n",
       "      <td>Liver</td>\n",
       "      <td>Normoxia</td>\n",
       "      <td>3</td>\n",
       "      <td>5</td>\n",
       "      <td>S3W5</td>\n",
       "      <td>Labeled</td>\n",
       "      <td>0</td>\n",
       "      <td>AP-SMALDI5</td>\n",
       "      <td>1,5-diaminonaphthalene (DAN)</td>\n",
       "      <td>Orbitrap</td>\n",
       "      <td>98995</td>\n",
       "      <td>negative</td>\n",
       "      <td>2022-04-11 10:31:37</td>\n",
       "      <td>0</td>\n",
       "    </tr>\n",
       "  </tbody>\n",
       "</table>\n",
       "</div>"
      ],
      "text/plain": [
       "              datasetId                                        datasetName  \\\n",
       "0  2022-04-11_10h23m28s  2022-04-10_AB_DKFZHypoxia_S3_W1_DANneg_s10a33_...   \n",
       "1  2022-04-11_10h24m59s  2022-04-10_AB_DKFZHypoxia_S3_W2_DANneg_s10a33_...   \n",
       "2  2022-04-11_10h26m29s  2022-04-10_AB_DKFZHypoxia_S3_W3_DANneg_s10a33_...   \n",
       "3  2022-04-11_10h28m11s  2022-04-10_AB_DKFZHypoxia_S3_W4_DANneg_s10a33_...   \n",
       "4  2022-04-11_10h31m36s  2022-04-10_AB_DKFZHypoxia_S3_W5_DANneg_s10a33_...   \n",
       "\n",
       "    group    submitter                   PI              organism  \\\n",
       "0  ♡EMBL♡  Mans Ekelof  Theodore Alexandrov  Mus musculus (mouse)   \n",
       "1  ♡EMBL♡  Mans Ekelof  Theodore Alexandrov  Mus musculus (mouse)   \n",
       "2  ♡EMBL♡  Mans Ekelof  Theodore Alexandrov  Mus musculus (mouse)   \n",
       "3  ♡EMBL♡  Mans Ekelof  Theodore Alexandrov  Mus musculus (mouse)   \n",
       "4  ♡EMBL♡  Mans Ekelof  Theodore Alexandrov  Mus musculus (mouse)   \n",
       "\n",
       "  organismPart           condition  slide  well batch growthConditions  \\\n",
       "0        Liver            Normoxia      3     1  S3W1        Unlabeled   \n",
       "1        Liver             Hypoxia      3     2  S3W2        Unlabeled   \n",
       "2        Liver             Hypoxia      3     3  S3W3          Labeled   \n",
       "3        Liver  Hypoxia + Normoxia      3     4  S3W4          Labeled   \n",
       "4        Liver            Normoxia      3     5  S3W5          Labeled   \n",
       "\n",
       "   GFP_ground_truth ionisationSource                   maldiMatrix  analyzer  \\\n",
       "0                 0       AP-SMALDI5  1,5-diaminonaphthalene (DAN)  Orbitrap   \n",
       "1                 1       AP-SMALDI5  1,5-diaminonaphthalene (DAN)  Orbitrap   \n",
       "2                 1       AP-SMALDI5  1,5-diaminonaphthalene (DAN)  Orbitrap   \n",
       "3                 2       AP-SMALDI5  1,5-diaminonaphthalene (DAN)  Orbitrap   \n",
       "4                 0       AP-SMALDI5  1,5-diaminonaphthalene (DAN)  Orbitrap   \n",
       "\n",
       "   resPower400  polarity       uploadDateTime  mixture  \n",
       "0        98995  negative  2022-04-11 10:23:28        0  \n",
       "1        98995  negative  2022-04-11 10:25:00        0  \n",
       "2        98995  negative  2022-04-11 10:26:29        0  \n",
       "3        98995  negative  2022-04-11 10:28:12        1  \n",
       "4        98995  negative  2022-04-11 10:31:37        0  "
      ]
     },
     "execution_count": 5,
     "metadata": {},
     "output_type": "execute_result"
    }
   ],
   "source": [
    "metadata.head()"
   ]
  },
  {
   "cell_type": "code",
   "execution_count": 6,
   "metadata": {},
   "outputs": [],
   "source": [
    "adatas = [sc.read_h5ad(adata_path) for adata_path in adata_paths]\n",
    "adatas_am = [sc.read_h5ad(adata_am_path) for adata_am_path in adata_am_paths]"
   ]
  },
  {
   "cell_type": "markdown",
   "metadata": {},
   "source": [
    "## Concatenate adatas from different slides"
   ]
  },
  {
   "cell_type": "code",
   "execution_count": 7,
   "metadata": {},
   "outputs": [
    {
     "name": "stderr",
     "output_type": "stream",
     "text": [
      "/home/buglakova/anaconda3/envs/sciso_env/lib/python3.9/site-packages/anndata/_core/anndata.py:1785: FutureWarning: X.dtype being converted to np.float32 from float64. In the next version of anndata (0.9) conversion will not be automatic. Pass dtype explicitly to avoid this warning. Pass `AnnData(X, dtype=X.dtype, ...)` to get the future behavour.\n",
      "  [AnnData(sparse.csr_matrix(a.shape), obs=a.obs) for a in all_adatas],\n",
      "/home/buglakova/anaconda3/envs/sciso_env/lib/python3.9/site-packages/anndata/_core/anndata.py:1785: FutureWarning: X.dtype being converted to np.float32 from float64. In the next version of anndata (0.9) conversion will not be automatic. Pass dtype explicitly to avoid this warning. Pass `AnnData(X, dtype=X.dtype, ...)` to get the future behavour.\n",
      "  [AnnData(sparse.csr_matrix(a.shape), obs=a.obs) for a in all_adatas],\n"
     ]
    }
   ],
   "source": [
    "adata_concat = sc.AnnData.concatenate(\n",
    "        *adatas,\n",
    "        batch_key=\"slide_batch\",\n",
    "        join=\"inner\",\n",
    "        fill_value=0.0,\n",
    "    )\n",
    "\n",
    "adata_am_concat = sc.AnnData.concatenate(\n",
    "        *adatas_am,\n",
    "        batch_key=\"slide_batch\",\n",
    "        join=\"inner\",\n",
    "        fill_value=0.0,\n",
    "    )"
   ]
  },
  {
   "cell_type": "markdown",
   "metadata": {},
   "source": [
    "## Assign conditions based on metadata"
   ]
  },
  {
   "cell_type": "code",
   "execution_count": 8,
   "metadata": {},
   "outputs": [],
   "source": [
    "adata_concat.obs = adata_concat.obs.reset_index().merge(metadata, on=\"batch\", how=\"left\").set_index(\"cell_id\")\n",
    "adata_am_concat.obs = adata_am_concat.obs.reset_index().merge(metadata, on=\"batch\", how=\"left\").set_index(\"cell_id\")"
   ]
  },
  {
   "cell_type": "markdown",
   "metadata": {},
   "source": [
    "## Write concatenated adata"
   ]
  },
  {
   "cell_type": "code",
   "execution_count": 9,
   "metadata": {},
   "outputs": [],
   "source": [
    "output_file = anndata_path / \"hypoxia_adata_concat.h5ad\"\n",
    "adata_concat.write(output_file.with_suffix(\".h5ad\"))\n",
    "\n",
    "output_file = anndata_path / \"hypoxia_adata_am_concat.h5ad\"\n",
    "adata_am_concat.write(output_file.with_suffix(\".h5ad\"))"
   ]
  },
  {
   "cell_type": "code",
   "execution_count": null,
   "metadata": {},
   "outputs": [],
   "source": []
  }
 ],
 "metadata": {
  "interpreter": {
   "hash": "9bd49a347cd17e738e55f076667836e91d28750ae15cbdfdf20930ba5f19b920"
  },
  "kernelspec": {
   "display_name": "Python 3.9.12 ('sciso_env')",
   "language": "python",
   "name": "python3"
  },
  "language_info": {
   "codemirror_mode": {
    "name": "ipython",
    "version": 3
   },
   "file_extension": ".py",
   "mimetype": "text/x-python",
   "name": "python",
   "nbconvert_exporter": "python",
   "pygments_lexer": "ipython3",
   "version": "3.9.12"
  },
  "orig_nbformat": 4
 },
 "nbformat": 4,
 "nbformat_minor": 2
}
